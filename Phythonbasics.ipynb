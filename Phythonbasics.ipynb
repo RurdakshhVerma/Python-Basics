{
  "nbformat": 4,
  "nbformat_minor": 0,
  "metadata": {
    "colab": {
      "provenance": []
    },
    "kernelspec": {
      "name": "python3",
      "display_name": "Python 3"
    },
    "language_info": {
      "name": "python"
    }
  },
  "cells": [
    {
      "cell_type": "markdown",
      "source": [
        "#PYTHON BASICS"
      ],
      "metadata": {
        "id": "XXH9XCabkaEG"
      }
    },
    {
      "cell_type": "markdown",
      "source": [
        "#Theory Questions\n"
      ],
      "metadata": {
        "id": "r7nZDyqakgL0"
      }
    },
    {
      "cell_type": "markdown",
      "source": [
        "1.** What is Python, and why is it popular?**                                      \n",
        "- Python is a high-level, interpreted, general-purpose programming language known for its simplicity and readability. Created by Guido van Rossum and first released in 1991, Python emphasizes code readability with its clean, English-like syntax.\n",
        "\n",
        "- Python is known for its simplicity and readability, making it perfect for beginners. It is a highlevel, interpreted language with a broad range of libraries and frameworks, supporting\n",
        "applications in web development, data analysis, AI, and more. Python's versatility and ease of\n",
        "use make it a valuable tool for both novice and experienced programmers.\n",
        "\n",
        "**2.What is an interpreter in Python?**  \n",
        "- An interpreter in Python is a program that executes Python code line by line, translating it into machine-readable instructions on the fly (without needing prior compilation). Unlike compiled languages (like C++ or Java), Python code does not need to be converted into an executable file before running—it is processed directly by the interpreter.\n",
        "\n",
        "**3.What are pre-defined keywords in Python?**\n",
        "- Pre-defined keywords in Python are reserved words that have special meaning to the Python interpreter. You cannot use them as variable names, function names, or identifiers because they are part of the core syntax and structure of the language.\n",
        "\n",
        "**4. Can keywords be used as variable names?**\n",
        "- No, you cannot use keywords as variable names in Python.\n",
        "\n",
        "**5.What is mutability in Python?**\n",
        "- Mutability refers to whether or not an object can be changed after it is created.*Examples of mutable objects:list ,dict,set*\n",
        "\n",
        "6.Why are lists mutable, but tuples are immutable?\n",
        "- A list is designed to be a flexible, dynamic container. Python allows you to:  \n",
        "  1.Add or remove elements   \n",
        "  2.Change elements in-place  \n",
        "  3.Reorder items  \n",
        "  This behavior is useful in many real-world scenarios like data processing, sorting, filtering, and more.\n",
        "- Tuples are immutable to provide consistency and to be hashable, which allows them to be used as:  \n",
        " 1.Dictionary keys  \n",
        "  2.Set elements\n",
        "\n",
        "**7.What is the difference between “==” and “is” operators in Python?**\n",
        "- == (Equality Operator)\n",
        "  \n",
        "  1.Checks if two variables have the same value.   \n",
        "  2.It compares the contents (what they hold).\n",
        "\n",
        "- is (Identity Operator)\n",
        "  \n",
        "  1.Checks if two variables refer to the same object in memory.   \n",
        "  2.It compares the memory address, not the contents.\n",
        "\n",
        "**8. What are logical operators in Python?**\n",
        "- Logical operators are used to combine conditional statements and return Boolean values (True or False). They are commonly used in if statements, loops, and boolean expressions.\n",
        "  python logical operators are:-and,or,not  \n",
        "\n",
        "**9.What is type casting in Python?**\n",
        "- Type casting (also called type conversion) is the process of converting one data type to another.\n",
        "\n",
        "**10.What is the difference between implicit and explicit type casting**\n",
        "  \n",
        "-  python supports both:-\n",
        "  `\n",
        "  \n",
        "  1.Implicit Type Casting (done automatically by Python)\n",
        "   \n",
        "\n",
        "\n",
        "\n",
        "\n",
        "\n",
        "\n",
        "\n",
        "   \n",
        "\n",
        "\n",
        "  \n",
        "\n",
        "\n",
        "\n",
        "\n",
        "\n",
        "\n"
      ],
      "metadata": {
        "id": "zwtys7tWlNHE"
      }
    },
    {
      "cell_type": "markdown",
      "source": [],
      "metadata": {
        "id": "ALnAR3ojBtN3"
      }
    },
    {
      "cell_type": "code",
      "execution_count": null,
      "metadata": {
        "colab": {
          "base_uri": "https://localhost:8080/"
        },
        "id": "uHhxAx4NkXnN",
        "outputId": "f32a9a0b-e184-435c-f6d8-718409695ea6"
      },
      "outputs": [
        {
          "output_type": "stream",
          "name": "stdout",
          "text": [
            "7.0\n"
          ]
        }
      ],
      "source": [
        "a = 5      # int\n",
        "b = 2.0    # float\n",
        "c = a + b  # Python converts 'a' to float automatically\n",
        "print(c)   # Output: 7.0 → float\n"
      ]
    },
    {
      "cell_type": "markdown",
      "source": [
        "  2.Explicit Type Casting (done manually by the programmer)\n"
      ],
      "metadata": {
        "id": "Ezxx8hLiB7qV"
      }
    },
    {
      "cell_type": "code",
      "source": [
        "x = 5.9\n",
        "y = int(x)\n",
        "print(y)   # Output: 5 (decimal part is dropped)\n",
        "\n",
        "s = \"123\"\n",
        "num = int(s)\n",
        "print(num + 10)  # Output: 133\n",
        "\n",
        "n = 10\n",
        "text = str(n)\n",
        "print(text + \" is a number\")  # Output: 10 is a number\n"
      ],
      "metadata": {
        "colab": {
          "base_uri": "https://localhost:8080/"
        },
        "id": "tCzNl0GqCHvs",
        "outputId": "a0397822-94bf-4993-e253-30d26e332cd7"
      },
      "execution_count": null,
      "outputs": [
        {
          "output_type": "stream",
          "name": "stdout",
          "text": [
            "5\n",
            "133\n",
            "10 is a number\n"
          ]
        }
      ]
    },
    {
      "cell_type": "markdown",
      "source": [
        "**11. What is the purpose of conditional statements in Python?**\n",
        "- Conditional statements in Python are used to make decisions in your program.\n",
        "\n",
        "   They allow your code to perform different actions based on whether a condition is True or False.  \n",
        "\n",
        "   #common conditional statements in python are:-\n",
        "                                                      \n",
        "\n",
        "     `if`       Run a block of code if a condition is true                 \n",
        "   \n",
        "     `elif`     (else if) Run another block if previous condition is false\n",
        "  \n",
        "     `else`     Run this block if **none** of the above are true   \n",
        "             \n",
        "**12. How does the elif statement work?**\n",
        "- The elif (short for \"else if\") statement is used to check multiple conditions, one after another. It only runs if all previous if and elif conditions are false.\n",
        "\n",
        "**13. What is the difference between for and while loops?**\n",
        "- Difference Between for and while Loops in Python\n",
        "\n",
        " @for Loop\n",
        "\n",
        " 1.Used when you know in advance how many times you want to loop.\n",
        "  \n",
        "  2.Iterates over a sequence (like a list, tuple, string, or range).\n",
        "\n",
        "   3.Best for fixed iterations.\n",
        "\n",
        "\n",
        "\n",
        "\n",
        "\n",
        "\n",
        "\n",
        "\n",
        "\n"
      ],
      "metadata": {
        "id": "MvfL8Fv6CV5G"
      }
    },
    {
      "cell_type": "code",
      "source": [
        "for i in range(5):\n",
        "    print(i)\n"
      ],
      "metadata": {
        "colab": {
          "base_uri": "https://localhost:8080/"
        },
        "id": "IcaGZmmZGW-e",
        "outputId": "7e7bfe15-7499-4645-d979-da6adc266ba0"
      },
      "execution_count": null,
      "outputs": [
        {
          "output_type": "stream",
          "name": "stdout",
          "text": [
            "0\n",
            "1\n",
            "2\n",
            "3\n",
            "4\n"
          ]
        }
      ]
    },
    {
      "cell_type": "markdown",
      "source": [],
      "metadata": {
        "id": "dR5Go56CGT_-"
      }
    },
    {
      "cell_type": "markdown",
      "source": [
        "  @while Loop\n",
        "\n",
        "   1.Used when you don’t know in advance how many times to loop.\n",
        "\n",
        "   2 Repeats as long as a condition is True.\n",
        "\n",
        "   3.Best for loops that depend on dynamic conditions."
      ],
      "metadata": {
        "id": "2nP7arpfHL4u"
      }
    },
    {
      "cell_type": "code",
      "source": [
        "i = 0\n",
        "while i < 5:\n",
        "    print(i)\n",
        "    i += 1\n"
      ],
      "metadata": {
        "colab": {
          "base_uri": "https://localhost:8080/"
        },
        "id": "9S8eaWiOHnAu",
        "outputId": "33c37e22-2f71-44fe-a842-915d353c9cf0"
      },
      "execution_count": null,
      "outputs": [
        {
          "output_type": "stream",
          "name": "stdout",
          "text": [
            "0\n",
            "1\n",
            "2\n",
            "3\n",
            "4\n"
          ]
        }
      ]
    },
    {
      "cell_type": "markdown",
      "source": [
        "**14. Describe a scenario where a while loop is more suitable than a for loop?**\n",
        "\n",
        "-  A while loop is better when you don't know in advance how many times you need to repeat the loop — instead, you loop until a condition changes dynamically.\n",
        "\n",
        "  #*Example Scenario: User Login System*\n",
        "  \n",
        "  You want to keep asking a user for their password until they enter the correct one.\n",
        "You don’t know how many attempts they'll need — so a while loop is perfect here."
      ],
      "metadata": {
        "id": "A6vC16j3HpyP"
      }
    },
    {
      "cell_type": "code",
      "source": [
        "correct_password = \"hello123\"\n",
        "user_input = \"\"\n",
        "\n",
        "while user_input != correct_password:\n",
        "    user_input = input(\"Enter your password: \")\n",
        "\n",
        "print(\"Access granted!\")\n"
      ],
      "metadata": {
        "colab": {
          "base_uri": "https://localhost:8080/"
        },
        "id": "QxrAqH0vIlk_",
        "outputId": "cfd8902e-0971-4dfa-c4bc-1b5c51054781"
      },
      "execution_count": null,
      "outputs": [
        {
          "output_type": "stream",
          "name": "stdout",
          "text": [
            "Enter your password: 123\n",
            "Enter your password: 123456\n",
            "Enter your password: hello123\n",
            "Access granted!\n"
          ]
        }
      ]
    },
    {
      "cell_type": "markdown",
      "source": [],
      "metadata": {
        "id": "EClxQFXtHmsG"
      }
    },
    {
      "cell_type": "markdown",
      "source": [
        "#Practical Questions\n"
      ],
      "metadata": {
        "id": "YXdBKV8WT6XZ"
      }
    },
    {
      "cell_type": "code",
      "source": [
        "# Q1.Write a Python program to print \"Hello, World!\n",
        "a = \"hello world!\"\n",
        "print(a)"
      ],
      "metadata": {
        "colab": {
          "base_uri": "https://localhost:8080/"
        },
        "id": "koOecbLmUStK",
        "outputId": "1bf5a123-3b0b-4af6-c285-5b7e14043ae6"
      },
      "execution_count": null,
      "outputs": [
        {
          "output_type": "stream",
          "name": "stdout",
          "text": [
            "hello world!\n"
          ]
        }
      ]
    },
    {
      "cell_type": "code",
      "source": [
        "# Q2.Write a Python program that displays your name and age.\n",
        "name = \"Rudraksh Verma\"\n",
        "age = \"19\"\n",
        "\n",
        "print(name)\n",
        "print(age)"
      ],
      "metadata": {
        "colab": {
          "base_uri": "https://localhost:8080/"
        },
        "id": "ToOHn-c_Uq8B",
        "outputId": "41ca049c-6f75-4b69-cdc6-b1b1a69f0604"
      },
      "execution_count": null,
      "outputs": [
        {
          "output_type": "stream",
          "name": "stdout",
          "text": [
            "Rudraksh Verma\n",
            "19\n"
          ]
        }
      ]
    },
    {
      "cell_type": "code",
      "source": [
        "# Q3. Write code to print all the pre-defined keywords in Python using the keyword library.\n",
        "import keyword\n",
        "\n",
        "# Get the list of keywords\n",
        "keywords = keyword.kwlist\n",
        "\n",
        "# Print the total number of keywords\n",
        "print(\"Total number of keywords in Python:\", len(keywords))\n",
        "\n",
        "# Print each keyword\n",
        "print(\"List of Python keywords:\")\n",
        "for kw in keywords:\n",
        "    print(kw)\n",
        "\n"
      ],
      "metadata": {
        "colab": {
          "base_uri": "https://localhost:8080/"
        },
        "id": "Inl6Wp9PVIkF",
        "outputId": "ddf18abe-74c7-4761-8a7d-a74dee967103"
      },
      "execution_count": null,
      "outputs": [
        {
          "output_type": "stream",
          "name": "stdout",
          "text": [
            "Total number of keywords in Python: 35\n",
            "List of Python keywords:\n",
            "False\n",
            "None\n",
            "True\n",
            "and\n",
            "as\n",
            "assert\n",
            "async\n",
            "await\n",
            "break\n",
            "class\n",
            "continue\n",
            "def\n",
            "del\n",
            "elif\n",
            "else\n",
            "except\n",
            "finally\n",
            "for\n",
            "from\n",
            "global\n",
            "if\n",
            "import\n",
            "in\n",
            "is\n",
            "lambda\n",
            "nonlocal\n",
            "not\n",
            "or\n",
            "pass\n",
            "raise\n",
            "return\n",
            "try\n",
            "while\n",
            "with\n",
            "yield\n"
          ]
        }
      ]
    },
    {
      "cell_type": "code",
      "source": [
        "# Q4.Write a program that checks if a given word is a Python keyword.\n",
        "import keyword\n",
        "\n",
        "# Input from the user\n",
        "word = input(\"Enter a word: \")\n",
        "\n",
        "# Check if the word is a Python keyword\n",
        "if keyword.iskeyword(word):\n",
        "    print(f\"'{word}' is a Python keyword.\")\n",
        "else:\n",
        "    print(f\"'{word}' is NOT a Python keyword.\")\n"
      ],
      "metadata": {
        "colab": {
          "base_uri": "https://localhost:8080/"
        },
        "id": "ET6CPabF2P4z",
        "outputId": "4e24823e-65a1-4655-8da8-2a3d81a84d5a"
      },
      "execution_count": null,
      "outputs": [
        {
          "output_type": "stream",
          "name": "stdout",
          "text": [
            "Enter a word: print\n",
            "'print' is NOT a Python keyword.\n"
          ]
        }
      ]
    },
    {
      "cell_type": "code",
      "source": [
        "# Q4.Create a list and tuple in Python, and demonstrate how attempting to change an element works differently for each\n",
        "# Creating a list\n",
        "my_list = [10, 20, 30]\n",
        "print(\"Original List:\", my_list)\n",
        "\n",
        "# Changing the second element\n",
        "my_list[1] = 200\n",
        "print(\"Modified List:\", my_list)\n",
        "\n",
        "# Creating a tuple\n",
        "my_tuple = (10, 20, 30)\n",
        "print(\"Original Tuple:\", my_tuple)\n",
        "\n",
        "# Trying to change the second element (this will raise an error)\n",
        "try:\n",
        "    my_tuple[1] = 200\n",
        "except TypeError as e:\n",
        "    print(\"Error when modifying tuple:\", e)\n"
      ],
      "metadata": {
        "id": "HLz_0YubStPt",
        "colab": {
          "base_uri": "https://localhost:8080/"
        },
        "outputId": "b05992ec-5719-4fd2-8ed0-ef76ce4cb452"
      },
      "execution_count": 1,
      "outputs": [
        {
          "output_type": "stream",
          "name": "stdout",
          "text": [
            "Original List: [10, 20, 30]\n",
            "Modified List: [10, 200, 30]\n",
            "Original Tuple: (10, 20, 30)\n",
            "Error when modifying tuple: 'tuple' object does not support item assignment\n"
          ]
        }
      ]
    },
    {
      "cell_type": "code",
      "source": [
        "# Q6.Write a function to demonstrate the behavior of mutable and immutable arguments.\n",
        "def modify_arguments(num, my_list):\n",
        "    print(\"\\nInside function (before modification):\")\n",
        "    print(\"num =\", num)\n",
        "    print(\"my_list =\", my_list)\n",
        "\n",
        "    # Modify the immutable argument\n",
        "    num += 10\n",
        "\n",
        "    # Modify the mutable argument\n",
        "    my_list.append(100)\n",
        "\n",
        "    print(\"\\nInside function (after modification):\")\n",
        "    print(\"num =\", num)\n",
        "    print(\"my_list =\", my_list)\n",
        "\n",
        "# Immutable argument\n",
        "x = 5\n",
        "\n",
        "# Mutable argument\n",
        "lst = [1, 2, 3]\n",
        "\n",
        "print(\"Before function call:\")\n",
        "print(\"x =\", x)\n",
        "print(\"lst =\", lst)\n",
        "\n",
        "modify_arguments(x, lst)\n",
        "\n",
        "print(\"\\nAfter function call:\")\n",
        "print(\"x =\", x)        # Unchanged\n",
        "print(\"lst =\", lst)    # Changed\n"
      ],
      "metadata": {
        "colab": {
          "base_uri": "https://localhost:8080/"
        },
        "id": "y2aIsSOJJe69",
        "outputId": "6ee5a732-9afd-4de5-d88d-cb65c80dc1d2"
      },
      "execution_count": 2,
      "outputs": [
        {
          "output_type": "stream",
          "name": "stdout",
          "text": [
            "Before function call:\n",
            "x = 5\n",
            "lst = [1, 2, 3]\n",
            "\n",
            "Inside function (before modification):\n",
            "num = 5\n",
            "my_list = [1, 2, 3]\n",
            "\n",
            "Inside function (after modification):\n",
            "num = 15\n",
            "my_list = [1, 2, 3, 100]\n",
            "\n",
            "After function call:\n",
            "x = 5\n",
            "lst = [1, 2, 3, 100]\n"
          ]
        }
      ]
    },
    {
      "cell_type": "code",
      "source": [
        "#Q7. Write a program that performs basic arithmetic operations on two user-input numbers.\n",
        "# Get input from the user\n",
        "num1 = float(input(\"Enter the first number: \"))\n",
        "num2 = float(input(\"Enter the second number: \"))\n",
        "\n",
        "# Perform arithmetic operations\n",
        "addition = num1 + num2\n",
        "subtraction = num1 - num2\n",
        "multiplication = num1 * num2\n",
        "\n",
        "# Handle division and modulus carefully to avoid division by zero\n",
        "if num2 != 0:\n",
        "    division = num1 / num2\n",
        "    modulus = num1 % num2\n",
        "else:\n",
        "    division = \"Undefined (division by zero)\"\n",
        "    modulus = \"Undefined (modulus by zero)\"\n",
        "\n",
        "# Display results\n",
        "print(\"\\n--- Arithmetic Operations ---\")\n",
        "print(f\"Addition: {num1} + {num2} = {addition}\")\n",
        "print(f\"Subtraction: {num1} - {num2} = {subtraction}\")\n",
        "print(f\"Multiplication: {num1} * {num2} = {multiplication}\")\n",
        "print(f\"Division: {num1} / {num2} = {division}\")\n",
        "print(f\"Modulus: {num1} % {num2} = {modulus}\")\n"
      ],
      "metadata": {
        "colab": {
          "base_uri": "https://localhost:8080/"
        },
        "id": "Q2fGmFaAJz7F",
        "outputId": "b37ebc0c-0fb0-485e-82e7-e26ede9fa787"
      },
      "execution_count": 3,
      "outputs": [
        {
          "output_type": "stream",
          "name": "stdout",
          "text": [
            "Enter the first number: 55\n",
            "Enter the second number: 25\n",
            "\n",
            "--- Arithmetic Operations ---\n",
            "Addition: 55.0 + 25.0 = 80.0\n",
            "Subtraction: 55.0 - 25.0 = 30.0\n",
            "Multiplication: 55.0 * 25.0 = 1375.0\n",
            "Division: 55.0 / 25.0 = 2.2\n",
            "Modulus: 55.0 % 25.0 = 5.0\n"
          ]
        }
      ]
    },
    {
      "cell_type": "code",
      "source": [
        "# Q8.Write a program to demonstrate the use of logical operators.\n",
        "# Get input from the user\n",
        "age = int(input(\"Enter your age: \"))\n",
        "has_ticket = input(\"Do you have a ticket? (yes/no): \").lower()\n",
        "is_vip = input(\"Are you a VIP? (yes/no): \").lower()\n",
        "\n",
        "# Convert string responses to boolean\n",
        "has_ticket = has_ticket == \"yes\"\n",
        "is_vip = is_vip == \"yes\"\n",
        "\n",
        "# Demonstrate logical operators\n",
        "print(\"\\n--- Logical Operator Examples ---\")\n",
        "\n",
        "# AND operator: both conditions must be True\n",
        "if age >= 18 and has_ticket:\n",
        "    print(\"AND: You are allowed to enter (age ≥ 18 and has ticket).\")\n",
        "else:\n",
        "    print(\"AND: Entry denied (need to be 18+ and have a ticket).\")\n",
        "\n",
        "# OR operator: at least one condition must be True\n",
        "if has_ticket or is_vip:\n",
        "    print(\"OR: You are allowed access to special lounge (ticket or VIP).\")\n",
        "else:\n",
        "    print(\"OR: Access denied to special lounge (need ticket or VIP status).\")\n",
        "\n",
        "# NOT operator: reverses the condition\n",
        "if not is_vip:\n",
        "    print(\"NOT: You are a regular guest.\")\n",
        "else:\n",
        "    print(\"NOT: Welcome, VIP guest!\")\n"
      ],
      "metadata": {
        "colab": {
          "base_uri": "https://localhost:8080/"
        },
        "id": "njzMy8hSKd22",
        "outputId": "c43f1e2d-af0c-4c10-d0a4-634deb289e8e"
      },
      "execution_count": 5,
      "outputs": [
        {
          "output_type": "stream",
          "name": "stdout",
          "text": [
            "Enter your age: 19\n",
            "Do you have a ticket? (yes/no): yes\n",
            "Are you a VIP? (yes/no): no\n",
            "\n",
            "--- Logical Operator Examples ---\n",
            "AND: You are allowed to enter (age ≥ 18 and has ticket).\n",
            "OR: You are allowed access to special lounge (ticket or VIP).\n",
            "NOT: You are a regular guest.\n"
          ]
        }
      ]
    },
    {
      "cell_type": "code",
      "source": [
        "# Q9.Write a Python program to convert user input from string to integer, float, and boolean types.\n",
        "# Get user input as a string\n",
        "user_input = input(\"Enter a value: \")\n",
        "\n",
        "print(\"\\n--- Type Conversions ---\")\n",
        "\n",
        "# Convert to integer\n",
        "try:\n",
        "    int_value = int(user_input)\n",
        "    print(\"Integer conversion:\", int_value)\n",
        "except ValueError:\n",
        "    print(\"Integer conversion: Failed (invalid input for int)\")\n",
        "\n",
        "# Convert to float\n",
        "try:\n",
        "    float_value = float(user_input)\n",
        "    print(\"Float conversion:\", float_value)\n",
        "except ValueError:\n",
        "    print(\"Float conversion: Failed (invalid input for float)\")\n",
        "\n",
        "# Convert to boolean\n",
        "# Note: Any non-empty string except \"False\", \"false\", \"0\" is considered True by default\n",
        "bool_value = user_input.lower() not in [\"\", \"false\", \"0\"]\n",
        "print(\"Boolean conversion:\", bool_value)\n"
      ],
      "metadata": {
        "colab": {
          "base_uri": "https://localhost:8080/"
        },
        "id": "RHbeWW2HLQ_9",
        "outputId": "90ad503d-e397-4078-bee5-df99cad9f6d7"
      },
      "execution_count": 6,
      "outputs": [
        {
          "output_type": "stream",
          "name": "stdout",
          "text": [
            "Enter a value: 1306\n",
            "\n",
            "--- Type Conversions ---\n",
            "Integer conversion: 1306\n",
            "Float conversion: 1306.0\n",
            "Boolean conversion: True\n"
          ]
        }
      ]
    },
    {
      "cell_type": "code",
      "source": [
        "# Q10.Write code to demonstrate type casting with list elements.\n",
        "# Original list of strings (e.g., from user input)\n",
        "string_list = [\"10\", \"20\", \"30\", \"40.5\", \"true\"]\n",
        "\n",
        "print(\"Original list (strings):\", string_list)\n",
        "\n",
        "# Convert to integers (only valid if all are integer strings)\n",
        "try:\n",
        "    int_list = [int(item) for item in string_list]\n",
        "    print(\"List converted to integers:\", int_list)\n",
        "except ValueError as e:\n",
        "    print(\"Integer conversion failed:\", e)\n",
        "\n",
        "# Convert to floats (handles both integers and decimals)\n",
        "try:\n",
        "    float_list = [float(item) for item in string_list]\n",
        "    print(\"List converted to floats:\", float_list)\n",
        "except ValueError as e:\n",
        "    print(\"Float conversion failed:\", e)\n",
        "\n",
        "# Convert to booleans\n",
        "# Note: Only empty string, \"0\", \"false\", and \"False\" are considered False\n",
        "bool_list = [item.lower() not in [\"\", \"0\", \"false\"] for item in string_list]\n",
        "print(\"List converted to booleans:\", bool_list)\n"
      ],
      "metadata": {
        "colab": {
          "base_uri": "https://localhost:8080/"
        },
        "id": "d1E0l90JMGLF",
        "outputId": "fed49472-3bd3-47fc-c503-352f7537c2d9"
      },
      "execution_count": 7,
      "outputs": [
        {
          "output_type": "stream",
          "name": "stdout",
          "text": [
            "Original list (strings): ['10', '20', '30', '40.5', 'true']\n",
            "Integer conversion failed: invalid literal for int() with base 10: '40.5'\n",
            "Float conversion failed: could not convert string to float: 'true'\n",
            "List converted to booleans: [True, True, True, True, True]\n"
          ]
        }
      ]
    },
    {
      "cell_type": "code",
      "source": [
        "# Q11.Write a program that checks if a number is positive, negative, or zero.\n",
        "# Get input from the user\n",
        "num = float(input(\"Enter a number: \"))\n",
        "\n",
        "# Check the sign of the number\n",
        "if num > 0:\n",
        "    print(\"The number is positive.\")\n",
        "elif num < 0:\n",
        "    print(\"The number is negative.\")\n",
        "else:\n",
        "    print(\"The number is zero.\")\n"
      ],
      "metadata": {
        "colab": {
          "base_uri": "https://localhost:8080/"
        },
        "id": "bW3Iv-ORPMj4",
        "outputId": "9d846175-d8b2-4881-f328-7f4c82c11692"
      },
      "execution_count": 8,
      "outputs": [
        {
          "output_type": "stream",
          "name": "stdout",
          "text": [
            "Enter a number: 1306\n",
            "The number is positive.\n"
          ]
        }
      ]
    },
    {
      "cell_type": "code",
      "source": [
        "# Q12.Write a for loop to print numbers from 1 to 10.\n",
        "# Using a for loop to print numbers from 1 to 10\n",
        "for i in range(1, 11):\n",
        "    print(i)\n"
      ],
      "metadata": {
        "colab": {
          "base_uri": "https://localhost:8080/"
        },
        "id": "TXWYsDH5Pejo",
        "outputId": "95739776-f9cb-446b-d61c-e3b1996724ea"
      },
      "execution_count": 9,
      "outputs": [
        {
          "output_type": "stream",
          "name": "stdout",
          "text": [
            "1\n",
            "2\n",
            "3\n",
            "4\n",
            "5\n",
            "6\n",
            "7\n",
            "8\n",
            "9\n",
            "10\n"
          ]
        }
      ]
    },
    {
      "cell_type": "code",
      "source": [
        "# Q13.Write a Python program to find the sum of all even numbers between 1 and 50.\n",
        "# Initialize sum\n",
        "even_sum = 0\n",
        "\n",
        "# Loop through numbers from 1 to 50\n",
        "for num in range(1, 51):\n",
        "    if num % 2 == 0:\n",
        "        even_sum += num\n",
        "\n",
        "# Print the result\n",
        "print(\"The sum of all even numbers from 1 to 50 is:\", even_sum)\n"
      ],
      "metadata": {
        "colab": {
          "base_uri": "https://localhost:8080/"
        },
        "id": "zZascA09PxIY",
        "outputId": "ef0206ae-914a-426f-fcba-0429a67cdd0e"
      },
      "execution_count": 12,
      "outputs": [
        {
          "output_type": "stream",
          "name": "stdout",
          "text": [
            "The sum of all even numbers from 1 to 50 is: 650\n"
          ]
        }
      ]
    },
    {
      "cell_type": "code",
      "source": [
        "# Q14.Write a program to reverse a string using a while loop.\n",
        "# Get input from the user\n",
        "original_string = input(\"Enter a string: \")\n",
        "\n",
        "# Initialize an empty string for the reversed result\n",
        "reversed_string = \"\"\n",
        "\n",
        "# Initialize index to the last character of the original string\n",
        "index = len(original_string) - 1\n",
        "\n",
        "# Use a while loop to iterate backward through the string\n",
        "while index >= 0:\n",
        "    reversed_string += original_string[index]\n",
        "    index -= 1\n",
        "\n",
        "# Display the reversed string\n",
        "print(\"Reversed string:\", reversed_string)\n"
      ],
      "metadata": {
        "colab": {
          "base_uri": "https://localhost:8080/"
        },
        "id": "MtB7wd-7QF7A",
        "outputId": "276c8755-7761-4ccb-aaae-975d568324be"
      },
      "execution_count": 13,
      "outputs": [
        {
          "output_type": "stream",
          "name": "stdout",
          "text": [
            "Enter a string: rudrasksh\n",
            "Reversed string: hsksardur\n"
          ]
        }
      ]
    },
    {
      "cell_type": "code",
      "source": [
        "# Q15. Write a Python program to calculate the factorial of a number provided by the user using a while loop.\n",
        "# Get input from the user\n",
        "num = int(input(\"Enter a non-negative integer: \"))\n",
        "\n",
        "# Check if the number is negative\n",
        "if num < 0:\n",
        "    print(\"Factorial is not defined for negative numbers.\")\n",
        "else:\n",
        "    factorial = 1\n",
        "    i = 1\n",
        "\n",
        "    while i <= num:\n",
        "        factorial *= i\n",
        "        i += 1\n",
        "\n",
        "    print(f\"The factorial of {num} is: {factorial}\")\n"
      ],
      "metadata": {
        "colab": {
          "base_uri": "https://localhost:8080/"
        },
        "id": "-1-h9YVSQXHA",
        "outputId": "1b03a30c-6d3c-4083-9707-6d7e28001cc6"
      },
      "execution_count": 15,
      "outputs": [
        {
          "output_type": "stream",
          "name": "stdout",
          "text": [
            "Enter a non-negative integer: 12\n",
            "The factorial of 12 is: 479001600\n"
          ]
        }
      ]
    },
    {
      "cell_type": "markdown",
      "source": [],
      "metadata": {
        "id": "IHjKp3H32PGX"
      }
    }
  ]
}